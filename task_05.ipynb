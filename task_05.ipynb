{
 "cells": [
  {
   "cell_type": "markdown",
   "metadata": {},
   "source": [
    "# _Importing libraries_\n"
   ]
  },
  {
   "cell_type": "code",
   "execution_count": 1,
   "metadata": {},
   "outputs": [],
   "source": [
    "import pandas as pd\n",
    "import seaborn as sns\n",
    "import matplotlib.pyplot as plt\n",
    "import numpy as np"
   ]
  },
  {
   "cell_type": "markdown",
   "metadata": {},
   "source": [
    "# _Importing data_\n"
   ]
  },
  {
   "cell_type": "code",
   "execution_count": 2,
   "metadata": {},
   "outputs": [
    {
     "data": {
      "text/html": [
       "<div>\n",
       "<style scoped>\n",
       "    .dataframe tbody tr th:only-of-type {\n",
       "        vertical-align: middle;\n",
       "    }\n",
       "\n",
       "    .dataframe tbody tr th {\n",
       "        vertical-align: top;\n",
       "    }\n",
       "\n",
       "    .dataframe thead th {\n",
       "        text-align: right;\n",
       "    }\n",
       "</style>\n",
       "<table border=\"1\" class=\"dataframe\">\n",
       "  <thead>\n",
       "    <tr style=\"text-align: right;\">\n",
       "      <th></th>\n",
       "      <th>ID</th>\n",
       "      <th>Source</th>\n",
       "      <th>Severity</th>\n",
       "      <th>Start_Time</th>\n",
       "      <th>End_Time</th>\n",
       "      <th>Start_Lat</th>\n",
       "      <th>Start_Lng</th>\n",
       "      <th>End_Lat</th>\n",
       "      <th>End_Lng</th>\n",
       "      <th>Distance(mi)</th>\n",
       "      <th>...</th>\n",
       "      <th>Roundabout</th>\n",
       "      <th>Station</th>\n",
       "      <th>Stop</th>\n",
       "      <th>Traffic_Calming</th>\n",
       "      <th>Traffic_Signal</th>\n",
       "      <th>Turning_Loop</th>\n",
       "      <th>Sunrise_Sunset</th>\n",
       "      <th>Civil_Twilight</th>\n",
       "      <th>Nautical_Twilight</th>\n",
       "      <th>Astronomical_Twilight</th>\n",
       "    </tr>\n",
       "  </thead>\n",
       "  <tbody>\n",
       "    <tr>\n",
       "      <th>0</th>\n",
       "      <td>A-2047758</td>\n",
       "      <td>Source2</td>\n",
       "      <td>2</td>\n",
       "      <td>12/06/2019 10:10:56</td>\n",
       "      <td>12/06/2019 10:55:58</td>\n",
       "      <td>30.641211</td>\n",
       "      <td>-91.153481</td>\n",
       "      <td>NaN</td>\n",
       "      <td>NaN</td>\n",
       "      <td>0.000</td>\n",
       "      <td>...</td>\n",
       "      <td>False</td>\n",
       "      <td>False</td>\n",
       "      <td>False</td>\n",
       "      <td>False</td>\n",
       "      <td>True</td>\n",
       "      <td>False</td>\n",
       "      <td>Day</td>\n",
       "      <td>Day</td>\n",
       "      <td>Day</td>\n",
       "      <td>Day</td>\n",
       "    </tr>\n",
       "    <tr>\n",
       "      <th>1</th>\n",
       "      <td>A-4694324</td>\n",
       "      <td>Source1</td>\n",
       "      <td>2</td>\n",
       "      <td>03/12/2022 23:37:14</td>\n",
       "      <td>04/12/2022 1:56:53</td>\n",
       "      <td>38.990562</td>\n",
       "      <td>-77.399070</td>\n",
       "      <td>38.990037</td>\n",
       "      <td>-77.398282</td>\n",
       "      <td>0.056</td>\n",
       "      <td>...</td>\n",
       "      <td>False</td>\n",
       "      <td>False</td>\n",
       "      <td>False</td>\n",
       "      <td>False</td>\n",
       "      <td>False</td>\n",
       "      <td>False</td>\n",
       "      <td>Night</td>\n",
       "      <td>Night</td>\n",
       "      <td>Night</td>\n",
       "      <td>Night</td>\n",
       "    </tr>\n",
       "    <tr>\n",
       "      <th>2</th>\n",
       "      <td>A-5006183</td>\n",
       "      <td>Source1</td>\n",
       "      <td>2</td>\n",
       "      <td>20/08/2022 13:13:00</td>\n",
       "      <td>20/08/2022 15:22:45</td>\n",
       "      <td>34.661189</td>\n",
       "      <td>-120.492822</td>\n",
       "      <td>34.661189</td>\n",
       "      <td>-120.492442</td>\n",
       "      <td>0.022</td>\n",
       "      <td>...</td>\n",
       "      <td>False</td>\n",
       "      <td>False</td>\n",
       "      <td>False</td>\n",
       "      <td>False</td>\n",
       "      <td>True</td>\n",
       "      <td>False</td>\n",
       "      <td>Day</td>\n",
       "      <td>Day</td>\n",
       "      <td>Day</td>\n",
       "      <td>Day</td>\n",
       "    </tr>\n",
       "    <tr>\n",
       "      <th>3</th>\n",
       "      <td>A-4237356</td>\n",
       "      <td>Source1</td>\n",
       "      <td>2</td>\n",
       "      <td>21/02/2022 17:43:04</td>\n",
       "      <td>21/02/2022 19:43:23</td>\n",
       "      <td>43.680592</td>\n",
       "      <td>-92.993317</td>\n",
       "      <td>43.680574</td>\n",
       "      <td>-92.972223</td>\n",
       "      <td>1.054</td>\n",
       "      <td>...</td>\n",
       "      <td>False</td>\n",
       "      <td>False</td>\n",
       "      <td>False</td>\n",
       "      <td>False</td>\n",
       "      <td>False</td>\n",
       "      <td>False</td>\n",
       "      <td>Day</td>\n",
       "      <td>Day</td>\n",
       "      <td>Day</td>\n",
       "      <td>Day</td>\n",
       "    </tr>\n",
       "    <tr>\n",
       "      <th>4</th>\n",
       "      <td>A-6690583</td>\n",
       "      <td>Source1</td>\n",
       "      <td>2</td>\n",
       "      <td>04/12/2020 1:46:00</td>\n",
       "      <td>04/12/2020 4:13:09</td>\n",
       "      <td>35.395484</td>\n",
       "      <td>-118.985176</td>\n",
       "      <td>35.395476</td>\n",
       "      <td>-118.985995</td>\n",
       "      <td>0.046</td>\n",
       "      <td>...</td>\n",
       "      <td>False</td>\n",
       "      <td>False</td>\n",
       "      <td>False</td>\n",
       "      <td>False</td>\n",
       "      <td>False</td>\n",
       "      <td>False</td>\n",
       "      <td>Night</td>\n",
       "      <td>Night</td>\n",
       "      <td>Night</td>\n",
       "      <td>Night</td>\n",
       "    </tr>\n",
       "    <tr>\n",
       "      <th>...</th>\n",
       "      <td>...</td>\n",
       "      <td>...</td>\n",
       "      <td>...</td>\n",
       "      <td>...</td>\n",
       "      <td>...</td>\n",
       "      <td>...</td>\n",
       "      <td>...</td>\n",
       "      <td>...</td>\n",
       "      <td>...</td>\n",
       "      <td>...</td>\n",
       "      <td>...</td>\n",
       "      <td>...</td>\n",
       "      <td>...</td>\n",
       "      <td>...</td>\n",
       "      <td>...</td>\n",
       "      <td>...</td>\n",
       "      <td>...</td>\n",
       "      <td>...</td>\n",
       "      <td>...</td>\n",
       "      <td>...</td>\n",
       "      <td>...</td>\n",
       "    </tr>\n",
       "    <tr>\n",
       "      <th>499995</th>\n",
       "      <td>A-6077227</td>\n",
       "      <td>Source1</td>\n",
       "      <td>2</td>\n",
       "      <td>15/12/2021 7:30:00</td>\n",
       "      <td>15/12/2021 7:50:30</td>\n",
       "      <td>45.522510</td>\n",
       "      <td>-123.084104</td>\n",
       "      <td>45.520225</td>\n",
       "      <td>-123.084211</td>\n",
       "      <td>0.158</td>\n",
       "      <td>...</td>\n",
       "      <td>False</td>\n",
       "      <td>False</td>\n",
       "      <td>False</td>\n",
       "      <td>False</td>\n",
       "      <td>False</td>\n",
       "      <td>False</td>\n",
       "      <td>Night</td>\n",
       "      <td>Day</td>\n",
       "      <td>Day</td>\n",
       "      <td>Day</td>\n",
       "    </tr>\n",
       "    <tr>\n",
       "      <th>499996</th>\n",
       "      <td>A-6323243</td>\n",
       "      <td>Source1</td>\n",
       "      <td>2</td>\n",
       "      <td>19/12/2021 16:25:00</td>\n",
       "      <td>19/12/2021 17:40:37</td>\n",
       "      <td>26.702570</td>\n",
       "      <td>-80.111169</td>\n",
       "      <td>26.703141</td>\n",
       "      <td>-80.111133</td>\n",
       "      <td>0.040</td>\n",
       "      <td>...</td>\n",
       "      <td>False</td>\n",
       "      <td>False</td>\n",
       "      <td>False</td>\n",
       "      <td>False</td>\n",
       "      <td>False</td>\n",
       "      <td>False</td>\n",
       "      <td>Day</td>\n",
       "      <td>Day</td>\n",
       "      <td>Day</td>\n",
       "      <td>Day</td>\n",
       "    </tr>\n",
       "    <tr>\n",
       "      <th>499997</th>\n",
       "      <td>A-3789256</td>\n",
       "      <td>Source1</td>\n",
       "      <td>2</td>\n",
       "      <td>13/04/2022 19:28:29</td>\n",
       "      <td>13/04/2022 21:33:44</td>\n",
       "      <td>34.561862</td>\n",
       "      <td>-112.259620</td>\n",
       "      <td>34.566822</td>\n",
       "      <td>-112.267150</td>\n",
       "      <td>0.549</td>\n",
       "      <td>...</td>\n",
       "      <td>False</td>\n",
       "      <td>False</td>\n",
       "      <td>False</td>\n",
       "      <td>False</td>\n",
       "      <td>True</td>\n",
       "      <td>False</td>\n",
       "      <td>Night</td>\n",
       "      <td>Night</td>\n",
       "      <td>Day</td>\n",
       "      <td>Day</td>\n",
       "    </tr>\n",
       "    <tr>\n",
       "      <th>499998</th>\n",
       "      <td>A-7030381</td>\n",
       "      <td>Source1</td>\n",
       "      <td>3</td>\n",
       "      <td>15/05/2020 17:20:56</td>\n",
       "      <td>15/05/2020 17:50:56</td>\n",
       "      <td>38.406680</td>\n",
       "      <td>-78.619310</td>\n",
       "      <td>38.406680</td>\n",
       "      <td>-78.619310</td>\n",
       "      <td>0.000</td>\n",
       "      <td>...</td>\n",
       "      <td>False</td>\n",
       "      <td>False</td>\n",
       "      <td>False</td>\n",
       "      <td>False</td>\n",
       "      <td>True</td>\n",
       "      <td>False</td>\n",
       "      <td>Day</td>\n",
       "      <td>Day</td>\n",
       "      <td>Day</td>\n",
       "      <td>Day</td>\n",
       "    </tr>\n",
       "    <tr>\n",
       "      <th>499999</th>\n",
       "      <td>A-5438901</td>\n",
       "      <td>Source1</td>\n",
       "      <td>2</td>\n",
       "      <td>02/04/2022 23:23:13</td>\n",
       "      <td>03/04/2022 0:49:48</td>\n",
       "      <td>35.069358</td>\n",
       "      <td>-85.234410</td>\n",
       "      <td>35.070505</td>\n",
       "      <td>-85.233836</td>\n",
       "      <td>0.086</td>\n",
       "      <td>...</td>\n",
       "      <td>False</td>\n",
       "      <td>False</td>\n",
       "      <td>False</td>\n",
       "      <td>False</td>\n",
       "      <td>False</td>\n",
       "      <td>False</td>\n",
       "      <td>Night</td>\n",
       "      <td>Night</td>\n",
       "      <td>Night</td>\n",
       "      <td>Night</td>\n",
       "    </tr>\n",
       "  </tbody>\n",
       "</table>\n",
       "<p>500000 rows × 46 columns</p>\n",
       "</div>"
      ],
      "text/plain": [
       "               ID   Source  Severity           Start_Time  \\\n",
       "0       A-2047758  Source2         2  12/06/2019 10:10:56   \n",
       "1       A-4694324  Source1         2  03/12/2022 23:37:14   \n",
       "2       A-5006183  Source1         2  20/08/2022 13:13:00   \n",
       "3       A-4237356  Source1         2  21/02/2022 17:43:04   \n",
       "4       A-6690583  Source1         2   04/12/2020 1:46:00   \n",
       "...           ...      ...       ...                  ...   \n",
       "499995  A-6077227  Source1         2   15/12/2021 7:30:00   \n",
       "499996  A-6323243  Source1         2  19/12/2021 16:25:00   \n",
       "499997  A-3789256  Source1         2  13/04/2022 19:28:29   \n",
       "499998  A-7030381  Source1         3  15/05/2020 17:20:56   \n",
       "499999  A-5438901  Source1         2  02/04/2022 23:23:13   \n",
       "\n",
       "                   End_Time  Start_Lat   Start_Lng    End_Lat     End_Lng  \\\n",
       "0       12/06/2019 10:55:58  30.641211  -91.153481        NaN         NaN   \n",
       "1        04/12/2022 1:56:53  38.990562  -77.399070  38.990037  -77.398282   \n",
       "2       20/08/2022 15:22:45  34.661189 -120.492822  34.661189 -120.492442   \n",
       "3       21/02/2022 19:43:23  43.680592  -92.993317  43.680574  -92.972223   \n",
       "4        04/12/2020 4:13:09  35.395484 -118.985176  35.395476 -118.985995   \n",
       "...                     ...        ...         ...        ...         ...   \n",
       "499995   15/12/2021 7:50:30  45.522510 -123.084104  45.520225 -123.084211   \n",
       "499996  19/12/2021 17:40:37  26.702570  -80.111169  26.703141  -80.111133   \n",
       "499997  13/04/2022 21:33:44  34.561862 -112.259620  34.566822 -112.267150   \n",
       "499998  15/05/2020 17:50:56  38.406680  -78.619310  38.406680  -78.619310   \n",
       "499999   03/04/2022 0:49:48  35.069358  -85.234410  35.070505  -85.233836   \n",
       "\n",
       "        Distance(mi)  ... Roundabout Station   Stop Traffic_Calming  \\\n",
       "0              0.000  ...      False   False  False           False   \n",
       "1              0.056  ...      False   False  False           False   \n",
       "2              0.022  ...      False   False  False           False   \n",
       "3              1.054  ...      False   False  False           False   \n",
       "4              0.046  ...      False   False  False           False   \n",
       "...              ...  ...        ...     ...    ...             ...   \n",
       "499995         0.158  ...      False   False  False           False   \n",
       "499996         0.040  ...      False   False  False           False   \n",
       "499997         0.549  ...      False   False  False           False   \n",
       "499998         0.000  ...      False   False  False           False   \n",
       "499999         0.086  ...      False   False  False           False   \n",
       "\n",
       "       Traffic_Signal Turning_Loop Sunrise_Sunset Civil_Twilight  \\\n",
       "0                True        False            Day            Day   \n",
       "1               False        False          Night          Night   \n",
       "2                True        False            Day            Day   \n",
       "3               False        False            Day            Day   \n",
       "4               False        False          Night          Night   \n",
       "...               ...          ...            ...            ...   \n",
       "499995          False        False          Night            Day   \n",
       "499996          False        False            Day            Day   \n",
       "499997           True        False          Night          Night   \n",
       "499998           True        False            Day            Day   \n",
       "499999          False        False          Night          Night   \n",
       "\n",
       "       Nautical_Twilight Astronomical_Twilight  \n",
       "0                    Day                   Day  \n",
       "1                  Night                 Night  \n",
       "2                    Day                   Day  \n",
       "3                    Day                   Day  \n",
       "4                  Night                 Night  \n",
       "...                  ...                   ...  \n",
       "499995               Day                   Day  \n",
       "499996               Day                   Day  \n",
       "499997               Day                   Day  \n",
       "499998               Day                   Day  \n",
       "499999             Night                 Night  \n",
       "\n",
       "[500000 rows x 46 columns]"
      ]
     },
     "execution_count": 2,
     "metadata": {},
     "output_type": "execute_result"
    }
   ],
   "source": [
    "df = pd.read_csv(\n",
    "    r\"C:\\Users\\22831\\Downloads\\US_Accidents_March23_sampled_500k\\US_Accidents_March23_sampled_500k.csv\"\n",
    ")\n",
    "df"
   ]
  },
  {
   "cell_type": "markdown",
   "metadata": {},
   "source": [
    "# _EDA_\n"
   ]
  },
  {
   "cell_type": "code",
   "execution_count": 3,
   "metadata": {},
   "outputs": [
    {
     "data": {
      "text/plain": [
       "(500000, 46)"
      ]
     },
     "execution_count": 3,
     "metadata": {},
     "output_type": "execute_result"
    }
   ],
   "source": [
    "df.shape"
   ]
  },
  {
   "cell_type": "code",
   "execution_count": 4,
   "metadata": {},
   "outputs": [
    {
     "data": {
      "text/html": [
       "<div>\n",
       "<style scoped>\n",
       "    .dataframe tbody tr th:only-of-type {\n",
       "        vertical-align: middle;\n",
       "    }\n",
       "\n",
       "    .dataframe tbody tr th {\n",
       "        vertical-align: top;\n",
       "    }\n",
       "\n",
       "    .dataframe thead th {\n",
       "        text-align: right;\n",
       "    }\n",
       "</style>\n",
       "<table border=\"1\" class=\"dataframe\">\n",
       "  <thead>\n",
       "    <tr style=\"text-align: right;\">\n",
       "      <th></th>\n",
       "      <th>ID</th>\n",
       "      <th>Source</th>\n",
       "      <th>Severity</th>\n",
       "      <th>Start_Time</th>\n",
       "      <th>End_Time</th>\n",
       "      <th>Start_Lat</th>\n",
       "      <th>Start_Lng</th>\n",
       "      <th>End_Lat</th>\n",
       "      <th>End_Lng</th>\n",
       "      <th>Distance(mi)</th>\n",
       "      <th>...</th>\n",
       "      <th>Roundabout</th>\n",
       "      <th>Station</th>\n",
       "      <th>Stop</th>\n",
       "      <th>Traffic_Calming</th>\n",
       "      <th>Traffic_Signal</th>\n",
       "      <th>Turning_Loop</th>\n",
       "      <th>Sunrise_Sunset</th>\n",
       "      <th>Civil_Twilight</th>\n",
       "      <th>Nautical_Twilight</th>\n",
       "      <th>Astronomical_Twilight</th>\n",
       "    </tr>\n",
       "  </thead>\n",
       "  <tbody>\n",
       "    <tr>\n",
       "      <th>0</th>\n",
       "      <td>A-2047758</td>\n",
       "      <td>Source2</td>\n",
       "      <td>2</td>\n",
       "      <td>12/06/2019 10:10:56</td>\n",
       "      <td>12/06/2019 10:55:58</td>\n",
       "      <td>30.641211</td>\n",
       "      <td>-91.153481</td>\n",
       "      <td>NaN</td>\n",
       "      <td>NaN</td>\n",
       "      <td>0.000</td>\n",
       "      <td>...</td>\n",
       "      <td>False</td>\n",
       "      <td>False</td>\n",
       "      <td>False</td>\n",
       "      <td>False</td>\n",
       "      <td>True</td>\n",
       "      <td>False</td>\n",
       "      <td>Day</td>\n",
       "      <td>Day</td>\n",
       "      <td>Day</td>\n",
       "      <td>Day</td>\n",
       "    </tr>\n",
       "    <tr>\n",
       "      <th>1</th>\n",
       "      <td>A-4694324</td>\n",
       "      <td>Source1</td>\n",
       "      <td>2</td>\n",
       "      <td>03/12/2022 23:37:14</td>\n",
       "      <td>04/12/2022 1:56:53</td>\n",
       "      <td>38.990562</td>\n",
       "      <td>-77.399070</td>\n",
       "      <td>38.990037</td>\n",
       "      <td>-77.398282</td>\n",
       "      <td>0.056</td>\n",
       "      <td>...</td>\n",
       "      <td>False</td>\n",
       "      <td>False</td>\n",
       "      <td>False</td>\n",
       "      <td>False</td>\n",
       "      <td>False</td>\n",
       "      <td>False</td>\n",
       "      <td>Night</td>\n",
       "      <td>Night</td>\n",
       "      <td>Night</td>\n",
       "      <td>Night</td>\n",
       "    </tr>\n",
       "    <tr>\n",
       "      <th>2</th>\n",
       "      <td>A-5006183</td>\n",
       "      <td>Source1</td>\n",
       "      <td>2</td>\n",
       "      <td>20/08/2022 13:13:00</td>\n",
       "      <td>20/08/2022 15:22:45</td>\n",
       "      <td>34.661189</td>\n",
       "      <td>-120.492822</td>\n",
       "      <td>34.661189</td>\n",
       "      <td>-120.492442</td>\n",
       "      <td>0.022</td>\n",
       "      <td>...</td>\n",
       "      <td>False</td>\n",
       "      <td>False</td>\n",
       "      <td>False</td>\n",
       "      <td>False</td>\n",
       "      <td>True</td>\n",
       "      <td>False</td>\n",
       "      <td>Day</td>\n",
       "      <td>Day</td>\n",
       "      <td>Day</td>\n",
       "      <td>Day</td>\n",
       "    </tr>\n",
       "    <tr>\n",
       "      <th>3</th>\n",
       "      <td>A-4237356</td>\n",
       "      <td>Source1</td>\n",
       "      <td>2</td>\n",
       "      <td>21/02/2022 17:43:04</td>\n",
       "      <td>21/02/2022 19:43:23</td>\n",
       "      <td>43.680592</td>\n",
       "      <td>-92.993317</td>\n",
       "      <td>43.680574</td>\n",
       "      <td>-92.972223</td>\n",
       "      <td>1.054</td>\n",
       "      <td>...</td>\n",
       "      <td>False</td>\n",
       "      <td>False</td>\n",
       "      <td>False</td>\n",
       "      <td>False</td>\n",
       "      <td>False</td>\n",
       "      <td>False</td>\n",
       "      <td>Day</td>\n",
       "      <td>Day</td>\n",
       "      <td>Day</td>\n",
       "      <td>Day</td>\n",
       "    </tr>\n",
       "    <tr>\n",
       "      <th>4</th>\n",
       "      <td>A-6690583</td>\n",
       "      <td>Source1</td>\n",
       "      <td>2</td>\n",
       "      <td>04/12/2020 1:46:00</td>\n",
       "      <td>04/12/2020 4:13:09</td>\n",
       "      <td>35.395484</td>\n",
       "      <td>-118.985176</td>\n",
       "      <td>35.395476</td>\n",
       "      <td>-118.985995</td>\n",
       "      <td>0.046</td>\n",
       "      <td>...</td>\n",
       "      <td>False</td>\n",
       "      <td>False</td>\n",
       "      <td>False</td>\n",
       "      <td>False</td>\n",
       "      <td>False</td>\n",
       "      <td>False</td>\n",
       "      <td>Night</td>\n",
       "      <td>Night</td>\n",
       "      <td>Night</td>\n",
       "      <td>Night</td>\n",
       "    </tr>\n",
       "  </tbody>\n",
       "</table>\n",
       "<p>5 rows × 46 columns</p>\n",
       "</div>"
      ],
      "text/plain": [
       "          ID   Source  Severity           Start_Time             End_Time  \\\n",
       "0  A-2047758  Source2         2  12/06/2019 10:10:56  12/06/2019 10:55:58   \n",
       "1  A-4694324  Source1         2  03/12/2022 23:37:14   04/12/2022 1:56:53   \n",
       "2  A-5006183  Source1         2  20/08/2022 13:13:00  20/08/2022 15:22:45   \n",
       "3  A-4237356  Source1         2  21/02/2022 17:43:04  21/02/2022 19:43:23   \n",
       "4  A-6690583  Source1         2   04/12/2020 1:46:00   04/12/2020 4:13:09   \n",
       "\n",
       "   Start_Lat   Start_Lng    End_Lat     End_Lng  Distance(mi)  ... Roundabout  \\\n",
       "0  30.641211  -91.153481        NaN         NaN         0.000  ...      False   \n",
       "1  38.990562  -77.399070  38.990037  -77.398282         0.056  ...      False   \n",
       "2  34.661189 -120.492822  34.661189 -120.492442         0.022  ...      False   \n",
       "3  43.680592  -92.993317  43.680574  -92.972223         1.054  ...      False   \n",
       "4  35.395484 -118.985176  35.395476 -118.985995         0.046  ...      False   \n",
       "\n",
       "  Station   Stop Traffic_Calming Traffic_Signal Turning_Loop Sunrise_Sunset  \\\n",
       "0   False  False           False           True        False            Day   \n",
       "1   False  False           False          False        False          Night   \n",
       "2   False  False           False           True        False            Day   \n",
       "3   False  False           False          False        False            Day   \n",
       "4   False  False           False          False        False          Night   \n",
       "\n",
       "  Civil_Twilight Nautical_Twilight Astronomical_Twilight  \n",
       "0            Day               Day                   Day  \n",
       "1          Night             Night                 Night  \n",
       "2            Day               Day                   Day  \n",
       "3            Day               Day                   Day  \n",
       "4          Night             Night                 Night  \n",
       "\n",
       "[5 rows x 46 columns]"
      ]
     },
     "execution_count": 4,
     "metadata": {},
     "output_type": "execute_result"
    }
   ],
   "source": [
    "df.head()"
   ]
  },
  {
   "cell_type": "code",
   "execution_count": 5,
   "metadata": {},
   "outputs": [
    {
     "data": {
      "text/html": [
       "<div>\n",
       "<style scoped>\n",
       "    .dataframe tbody tr th:only-of-type {\n",
       "        vertical-align: middle;\n",
       "    }\n",
       "\n",
       "    .dataframe tbody tr th {\n",
       "        vertical-align: top;\n",
       "    }\n",
       "\n",
       "    .dataframe thead th {\n",
       "        text-align: right;\n",
       "    }\n",
       "</style>\n",
       "<table border=\"1\" class=\"dataframe\">\n",
       "  <thead>\n",
       "    <tr style=\"text-align: right;\">\n",
       "      <th></th>\n",
       "      <th>ID</th>\n",
       "      <th>Source</th>\n",
       "      <th>Severity</th>\n",
       "      <th>Start_Time</th>\n",
       "      <th>End_Time</th>\n",
       "      <th>Start_Lat</th>\n",
       "      <th>Start_Lng</th>\n",
       "      <th>End_Lat</th>\n",
       "      <th>End_Lng</th>\n",
       "      <th>Distance(mi)</th>\n",
       "      <th>...</th>\n",
       "      <th>Roundabout</th>\n",
       "      <th>Station</th>\n",
       "      <th>Stop</th>\n",
       "      <th>Traffic_Calming</th>\n",
       "      <th>Traffic_Signal</th>\n",
       "      <th>Turning_Loop</th>\n",
       "      <th>Sunrise_Sunset</th>\n",
       "      <th>Civil_Twilight</th>\n",
       "      <th>Nautical_Twilight</th>\n",
       "      <th>Astronomical_Twilight</th>\n",
       "    </tr>\n",
       "  </thead>\n",
       "  <tbody>\n",
       "    <tr>\n",
       "      <th>499995</th>\n",
       "      <td>A-6077227</td>\n",
       "      <td>Source1</td>\n",
       "      <td>2</td>\n",
       "      <td>15/12/2021 7:30:00</td>\n",
       "      <td>15/12/2021 7:50:30</td>\n",
       "      <td>45.522510</td>\n",
       "      <td>-123.084104</td>\n",
       "      <td>45.520225</td>\n",
       "      <td>-123.084211</td>\n",
       "      <td>0.158</td>\n",
       "      <td>...</td>\n",
       "      <td>False</td>\n",
       "      <td>False</td>\n",
       "      <td>False</td>\n",
       "      <td>False</td>\n",
       "      <td>False</td>\n",
       "      <td>False</td>\n",
       "      <td>Night</td>\n",
       "      <td>Day</td>\n",
       "      <td>Day</td>\n",
       "      <td>Day</td>\n",
       "    </tr>\n",
       "    <tr>\n",
       "      <th>499996</th>\n",
       "      <td>A-6323243</td>\n",
       "      <td>Source1</td>\n",
       "      <td>2</td>\n",
       "      <td>19/12/2021 16:25:00</td>\n",
       "      <td>19/12/2021 17:40:37</td>\n",
       "      <td>26.702570</td>\n",
       "      <td>-80.111169</td>\n",
       "      <td>26.703141</td>\n",
       "      <td>-80.111133</td>\n",
       "      <td>0.040</td>\n",
       "      <td>...</td>\n",
       "      <td>False</td>\n",
       "      <td>False</td>\n",
       "      <td>False</td>\n",
       "      <td>False</td>\n",
       "      <td>False</td>\n",
       "      <td>False</td>\n",
       "      <td>Day</td>\n",
       "      <td>Day</td>\n",
       "      <td>Day</td>\n",
       "      <td>Day</td>\n",
       "    </tr>\n",
       "    <tr>\n",
       "      <th>499997</th>\n",
       "      <td>A-3789256</td>\n",
       "      <td>Source1</td>\n",
       "      <td>2</td>\n",
       "      <td>13/04/2022 19:28:29</td>\n",
       "      <td>13/04/2022 21:33:44</td>\n",
       "      <td>34.561862</td>\n",
       "      <td>-112.259620</td>\n",
       "      <td>34.566822</td>\n",
       "      <td>-112.267150</td>\n",
       "      <td>0.549</td>\n",
       "      <td>...</td>\n",
       "      <td>False</td>\n",
       "      <td>False</td>\n",
       "      <td>False</td>\n",
       "      <td>False</td>\n",
       "      <td>True</td>\n",
       "      <td>False</td>\n",
       "      <td>Night</td>\n",
       "      <td>Night</td>\n",
       "      <td>Day</td>\n",
       "      <td>Day</td>\n",
       "    </tr>\n",
       "    <tr>\n",
       "      <th>499998</th>\n",
       "      <td>A-7030381</td>\n",
       "      <td>Source1</td>\n",
       "      <td>3</td>\n",
       "      <td>15/05/2020 17:20:56</td>\n",
       "      <td>15/05/2020 17:50:56</td>\n",
       "      <td>38.406680</td>\n",
       "      <td>-78.619310</td>\n",
       "      <td>38.406680</td>\n",
       "      <td>-78.619310</td>\n",
       "      <td>0.000</td>\n",
       "      <td>...</td>\n",
       "      <td>False</td>\n",
       "      <td>False</td>\n",
       "      <td>False</td>\n",
       "      <td>False</td>\n",
       "      <td>True</td>\n",
       "      <td>False</td>\n",
       "      <td>Day</td>\n",
       "      <td>Day</td>\n",
       "      <td>Day</td>\n",
       "      <td>Day</td>\n",
       "    </tr>\n",
       "    <tr>\n",
       "      <th>499999</th>\n",
       "      <td>A-5438901</td>\n",
       "      <td>Source1</td>\n",
       "      <td>2</td>\n",
       "      <td>02/04/2022 23:23:13</td>\n",
       "      <td>03/04/2022 0:49:48</td>\n",
       "      <td>35.069358</td>\n",
       "      <td>-85.234410</td>\n",
       "      <td>35.070505</td>\n",
       "      <td>-85.233836</td>\n",
       "      <td>0.086</td>\n",
       "      <td>...</td>\n",
       "      <td>False</td>\n",
       "      <td>False</td>\n",
       "      <td>False</td>\n",
       "      <td>False</td>\n",
       "      <td>False</td>\n",
       "      <td>False</td>\n",
       "      <td>Night</td>\n",
       "      <td>Night</td>\n",
       "      <td>Night</td>\n",
       "      <td>Night</td>\n",
       "    </tr>\n",
       "  </tbody>\n",
       "</table>\n",
       "<p>5 rows × 46 columns</p>\n",
       "</div>"
      ],
      "text/plain": [
       "               ID   Source  Severity           Start_Time  \\\n",
       "499995  A-6077227  Source1         2   15/12/2021 7:30:00   \n",
       "499996  A-6323243  Source1         2  19/12/2021 16:25:00   \n",
       "499997  A-3789256  Source1         2  13/04/2022 19:28:29   \n",
       "499998  A-7030381  Source1         3  15/05/2020 17:20:56   \n",
       "499999  A-5438901  Source1         2  02/04/2022 23:23:13   \n",
       "\n",
       "                   End_Time  Start_Lat   Start_Lng    End_Lat     End_Lng  \\\n",
       "499995   15/12/2021 7:50:30  45.522510 -123.084104  45.520225 -123.084211   \n",
       "499996  19/12/2021 17:40:37  26.702570  -80.111169  26.703141  -80.111133   \n",
       "499997  13/04/2022 21:33:44  34.561862 -112.259620  34.566822 -112.267150   \n",
       "499998  15/05/2020 17:50:56  38.406680  -78.619310  38.406680  -78.619310   \n",
       "499999   03/04/2022 0:49:48  35.069358  -85.234410  35.070505  -85.233836   \n",
       "\n",
       "        Distance(mi)  ... Roundabout Station   Stop Traffic_Calming  \\\n",
       "499995         0.158  ...      False   False  False           False   \n",
       "499996         0.040  ...      False   False  False           False   \n",
       "499997         0.549  ...      False   False  False           False   \n",
       "499998         0.000  ...      False   False  False           False   \n",
       "499999         0.086  ...      False   False  False           False   \n",
       "\n",
       "       Traffic_Signal Turning_Loop Sunrise_Sunset Civil_Twilight  \\\n",
       "499995          False        False          Night            Day   \n",
       "499996          False        False            Day            Day   \n",
       "499997           True        False          Night          Night   \n",
       "499998           True        False            Day            Day   \n",
       "499999          False        False          Night          Night   \n",
       "\n",
       "       Nautical_Twilight Astronomical_Twilight  \n",
       "499995               Day                   Day  \n",
       "499996               Day                   Day  \n",
       "499997               Day                   Day  \n",
       "499998               Day                   Day  \n",
       "499999             Night                 Night  \n",
       "\n",
       "[5 rows x 46 columns]"
      ]
     },
     "execution_count": 5,
     "metadata": {},
     "output_type": "execute_result"
    }
   ],
   "source": [
    "df.tail()"
   ]
  },
  {
   "cell_type": "code",
   "execution_count": 6,
   "metadata": {},
   "outputs": [
    {
     "data": {
      "text/plain": [
       "Index(['ID', 'Source', 'Severity', 'Start_Time', 'End_Time', 'Start_Lat',\n",
       "       'Start_Lng', 'End_Lat', 'End_Lng', 'Distance(mi)', 'Description',\n",
       "       'Street', 'City', 'County', 'State', 'Zipcode', 'Country', 'Timezone',\n",
       "       'Airport_Code', 'Weather_Timestamp', 'Temperature(F)', 'Wind_Chill(F)',\n",
       "       'Humidity(%)', 'Pressure(in)', 'Visibility(mi)', 'Wind_Direction',\n",
       "       'Wind_Speed(mph)', 'Precipitation(in)', 'Weather_Condition', 'Amenity',\n",
       "       'Bump', 'Crossing', 'Give_Way', 'Junction', 'No_Exit', 'Railway',\n",
       "       'Roundabout', 'Station', 'Stop', 'Traffic_Calming', 'Traffic_Signal',\n",
       "       'Turning_Loop', 'Sunrise_Sunset', 'Civil_Twilight', 'Nautical_Twilight',\n",
       "       'Astronomical_Twilight'],\n",
       "      dtype='object')"
      ]
     },
     "execution_count": 6,
     "metadata": {},
     "output_type": "execute_result"
    }
   ],
   "source": [
    "df.columns"
   ]
  },
  {
   "cell_type": "code",
   "execution_count": 7,
   "metadata": {},
   "outputs": [
    {
     "data": {
      "text/html": [
       "<div>\n",
       "<style scoped>\n",
       "    .dataframe tbody tr th:only-of-type {\n",
       "        vertical-align: middle;\n",
       "    }\n",
       "\n",
       "    .dataframe tbody tr th {\n",
       "        vertical-align: top;\n",
       "    }\n",
       "\n",
       "    .dataframe thead th {\n",
       "        text-align: right;\n",
       "    }\n",
       "</style>\n",
       "<table border=\"1\" class=\"dataframe\">\n",
       "  <thead>\n",
       "    <tr style=\"text-align: right;\">\n",
       "      <th></th>\n",
       "      <th>Severity</th>\n",
       "      <th>Start_Lat</th>\n",
       "      <th>Start_Lng</th>\n",
       "      <th>End_Lat</th>\n",
       "      <th>End_Lng</th>\n",
       "      <th>Distance(mi)</th>\n",
       "      <th>Temperature(F)</th>\n",
       "      <th>Wind_Chill(F)</th>\n",
       "      <th>Humidity(%)</th>\n",
       "      <th>Pressure(in)</th>\n",
       "      <th>Visibility(mi)</th>\n",
       "      <th>Wind_Speed(mph)</th>\n",
       "      <th>Precipitation(in)</th>\n",
       "    </tr>\n",
       "  </thead>\n",
       "  <tbody>\n",
       "    <tr>\n",
       "      <th>count</th>\n",
       "      <td>500000.000000</td>\n",
       "      <td>500000.000000</td>\n",
       "      <td>500000.000000</td>\n",
       "      <td>279623.000000</td>\n",
       "      <td>279623.000000</td>\n",
       "      <td>500000.000000</td>\n",
       "      <td>489534.000000</td>\n",
       "      <td>370983.000000</td>\n",
       "      <td>488870.000000</td>\n",
       "      <td>491072.000000</td>\n",
       "      <td>488709.000000</td>\n",
       "      <td>463013.000000</td>\n",
       "      <td>357384.000000</td>\n",
       "    </tr>\n",
       "    <tr>\n",
       "      <th>mean</th>\n",
       "      <td>2.212748</td>\n",
       "      <td>36.206421</td>\n",
       "      <td>-94.736583</td>\n",
       "      <td>36.273192</td>\n",
       "      <td>-95.776553</td>\n",
       "      <td>0.564317</td>\n",
       "      <td>61.646254</td>\n",
       "      <td>58.229028</td>\n",
       "      <td>64.834921</td>\n",
       "      <td>29.536621</td>\n",
       "      <td>9.091540</td>\n",
       "      <td>7.681347</td>\n",
       "      <td>0.008289</td>\n",
       "    </tr>\n",
       "    <tr>\n",
       "      <th>std</th>\n",
       "      <td>0.486661</td>\n",
       "      <td>5.071411</td>\n",
       "      <td>17.405761</td>\n",
       "      <td>5.265333</td>\n",
       "      <td>18.120211</td>\n",
       "      <td>1.774872</td>\n",
       "      <td>19.000133</td>\n",
       "      <td>22.352246</td>\n",
       "      <td>22.826158</td>\n",
       "      <td>1.008666</td>\n",
       "      <td>2.708083</td>\n",
       "      <td>5.431361</td>\n",
       "      <td>0.101865</td>\n",
       "    </tr>\n",
       "    <tr>\n",
       "      <th>min</th>\n",
       "      <td>1.000000</td>\n",
       "      <td>24.562117</td>\n",
       "      <td>-124.497420</td>\n",
       "      <td>24.570110</td>\n",
       "      <td>-124.497419</td>\n",
       "      <td>0.000000</td>\n",
       "      <td>-77.800000</td>\n",
       "      <td>-53.200000</td>\n",
       "      <td>1.000000</td>\n",
       "      <td>0.120000</td>\n",
       "      <td>0.000000</td>\n",
       "      <td>0.000000</td>\n",
       "      <td>0.000000</td>\n",
       "    </tr>\n",
       "    <tr>\n",
       "      <th>25%</th>\n",
       "      <td>2.000000</td>\n",
       "      <td>33.416823</td>\n",
       "      <td>-117.233047</td>\n",
       "      <td>33.474773</td>\n",
       "      <td>-117.778324</td>\n",
       "      <td>0.000000</td>\n",
       "      <td>49.000000</td>\n",
       "      <td>43.000000</td>\n",
       "      <td>48.000000</td>\n",
       "      <td>29.370000</td>\n",
       "      <td>10.000000</td>\n",
       "      <td>4.600000</td>\n",
       "      <td>0.000000</td>\n",
       "    </tr>\n",
       "    <tr>\n",
       "      <th>50%</th>\n",
       "      <td>2.000000</td>\n",
       "      <td>35.832147</td>\n",
       "      <td>-87.794365</td>\n",
       "      <td>36.192669</td>\n",
       "      <td>-88.039013</td>\n",
       "      <td>0.029000</td>\n",
       "      <td>64.000000</td>\n",
       "      <td>62.000000</td>\n",
       "      <td>67.000000</td>\n",
       "      <td>29.860000</td>\n",
       "      <td>10.000000</td>\n",
       "      <td>7.000000</td>\n",
       "      <td>0.000000</td>\n",
       "    </tr>\n",
       "    <tr>\n",
       "      <th>75%</th>\n",
       "      <td>2.000000</td>\n",
       "      <td>40.082443</td>\n",
       "      <td>-80.359601</td>\n",
       "      <td>40.181341</td>\n",
       "      <td>-80.252449</td>\n",
       "      <td>0.465000</td>\n",
       "      <td>76.000000</td>\n",
       "      <td>75.000000</td>\n",
       "      <td>84.000000</td>\n",
       "      <td>30.030000</td>\n",
       "      <td>10.000000</td>\n",
       "      <td>10.400000</td>\n",
       "      <td>0.000000</td>\n",
       "    </tr>\n",
       "    <tr>\n",
       "      <th>max</th>\n",
       "      <td>4.000000</td>\n",
       "      <td>48.999569</td>\n",
       "      <td>-67.484130</td>\n",
       "      <td>48.998901</td>\n",
       "      <td>-67.484130</td>\n",
       "      <td>193.479996</td>\n",
       "      <td>207.000000</td>\n",
       "      <td>207.000000</td>\n",
       "      <td>100.000000</td>\n",
       "      <td>38.440000</td>\n",
       "      <td>130.000000</td>\n",
       "      <td>822.800000</td>\n",
       "      <td>10.130000</td>\n",
       "    </tr>\n",
       "  </tbody>\n",
       "</table>\n",
       "</div>"
      ],
      "text/plain": [
       "            Severity      Start_Lat      Start_Lng        End_Lat  \\\n",
       "count  500000.000000  500000.000000  500000.000000  279623.000000   \n",
       "mean        2.212748      36.206421     -94.736583      36.273192   \n",
       "std         0.486661       5.071411      17.405761       5.265333   \n",
       "min         1.000000      24.562117    -124.497420      24.570110   \n",
       "25%         2.000000      33.416823    -117.233047      33.474773   \n",
       "50%         2.000000      35.832147     -87.794365      36.192669   \n",
       "75%         2.000000      40.082443     -80.359601      40.181341   \n",
       "max         4.000000      48.999569     -67.484130      48.998901   \n",
       "\n",
       "             End_Lng   Distance(mi)  Temperature(F)  Wind_Chill(F)  \\\n",
       "count  279623.000000  500000.000000   489534.000000  370983.000000   \n",
       "mean      -95.776553       0.564317       61.646254      58.229028   \n",
       "std        18.120211       1.774872       19.000133      22.352246   \n",
       "min      -124.497419       0.000000      -77.800000     -53.200000   \n",
       "25%      -117.778324       0.000000       49.000000      43.000000   \n",
       "50%       -88.039013       0.029000       64.000000      62.000000   \n",
       "75%       -80.252449       0.465000       76.000000      75.000000   \n",
       "max       -67.484130     193.479996      207.000000     207.000000   \n",
       "\n",
       "         Humidity(%)   Pressure(in)  Visibility(mi)  Wind_Speed(mph)  \\\n",
       "count  488870.000000  491072.000000   488709.000000    463013.000000   \n",
       "mean       64.834921      29.536621        9.091540         7.681347   \n",
       "std        22.826158       1.008666        2.708083         5.431361   \n",
       "min         1.000000       0.120000        0.000000         0.000000   \n",
       "25%        48.000000      29.370000       10.000000         4.600000   \n",
       "50%        67.000000      29.860000       10.000000         7.000000   \n",
       "75%        84.000000      30.030000       10.000000        10.400000   \n",
       "max       100.000000      38.440000      130.000000       822.800000   \n",
       "\n",
       "       Precipitation(in)  \n",
       "count      357384.000000  \n",
       "mean            0.008289  \n",
       "std             0.101865  \n",
       "min             0.000000  \n",
       "25%             0.000000  \n",
       "50%             0.000000  \n",
       "75%             0.000000  \n",
       "max            10.130000  "
      ]
     },
     "execution_count": 7,
     "metadata": {},
     "output_type": "execute_result"
    }
   ],
   "source": [
    "df.describe()"
   ]
  },
  {
   "cell_type": "code",
   "execution_count": 8,
   "metadata": {},
   "outputs": [
    {
     "name": "stdout",
     "output_type": "stream",
     "text": [
      "<class 'pandas.core.frame.DataFrame'>\n",
      "RangeIndex: 500000 entries, 0 to 499999\n",
      "Data columns (total 46 columns):\n",
      " #   Column                 Non-Null Count   Dtype  \n",
      "---  ------                 --------------   -----  \n",
      " 0   ID                     500000 non-null  object \n",
      " 1   Source                 500000 non-null  object \n",
      " 2   Severity               500000 non-null  int64  \n",
      " 3   Start_Time             500000 non-null  object \n",
      " 4   End_Time               500000 non-null  object \n",
      " 5   Start_Lat              500000 non-null  float64\n",
      " 6   Start_Lng              500000 non-null  float64\n",
      " 7   End_Lat                279623 non-null  float64\n",
      " 8   End_Lng                279623 non-null  float64\n",
      " 9   Distance(mi)           500000 non-null  float64\n",
      " 10  Description            499999 non-null  object \n",
      " 11  Street                 499309 non-null  object \n",
      " 12  City                   499981 non-null  object \n",
      " 13  County                 500000 non-null  object \n",
      " 14  State                  500000 non-null  object \n",
      " 15  Zipcode                499884 non-null  object \n",
      " 16  Country                500000 non-null  object \n",
      " 17  Timezone               499493 non-null  object \n",
      " 18  Airport_Code           498554 non-null  object \n",
      " 19  Weather_Timestamp      492326 non-null  object \n",
      " 20  Temperature(F)         489534 non-null  float64\n",
      " 21  Wind_Chill(F)          370983 non-null  float64\n",
      " 22  Humidity(%)            488870 non-null  float64\n",
      " 23  Pressure(in)           491072 non-null  float64\n",
      " 24  Visibility(mi)         488709 non-null  float64\n",
      " 25  Wind_Direction         488803 non-null  object \n",
      " 26  Wind_Speed(mph)        463013 non-null  float64\n",
      " 27  Precipitation(in)      357384 non-null  float64\n",
      " 28  Weather_Condition      488899 non-null  object \n",
      " 29  Amenity                500000 non-null  bool   \n",
      " 30  Bump                   500000 non-null  bool   \n",
      " 31  Crossing               500000 non-null  bool   \n",
      " 32  Give_Way               500000 non-null  bool   \n",
      " 33  Junction               500000 non-null  bool   \n",
      " 34  No_Exit                500000 non-null  bool   \n",
      " 35  Railway                500000 non-null  bool   \n",
      " 36  Roundabout             500000 non-null  bool   \n",
      " 37  Station                500000 non-null  bool   \n",
      " 38  Stop                   500000 non-null  bool   \n",
      " 39  Traffic_Calming        500000 non-null  bool   \n",
      " 40  Traffic_Signal         500000 non-null  bool   \n",
      " 41  Turning_Loop           500000 non-null  bool   \n",
      " 42  Sunrise_Sunset         498517 non-null  object \n",
      " 43  Civil_Twilight         498517 non-null  object \n",
      " 44  Nautical_Twilight      498517 non-null  object \n",
      " 45  Astronomical_Twilight  498517 non-null  object \n",
      "dtypes: bool(13), float64(12), int64(1), object(20)\n",
      "memory usage: 132.1+ MB\n"
     ]
    }
   ],
   "source": [
    "df.info()"
   ]
  },
  {
   "cell_type": "code",
   "execution_count": 9,
   "metadata": {},
   "outputs": [
    {
     "data": {
      "text/plain": [
       "ID                        object\n",
       "Source                    object\n",
       "Severity                   int64\n",
       "Start_Time                object\n",
       "End_Time                  object\n",
       "Start_Lat                float64\n",
       "Start_Lng                float64\n",
       "End_Lat                  float64\n",
       "End_Lng                  float64\n",
       "Distance(mi)             float64\n",
       "Description               object\n",
       "Street                    object\n",
       "City                      object\n",
       "County                    object\n",
       "State                     object\n",
       "Zipcode                   object\n",
       "Country                   object\n",
       "Timezone                  object\n",
       "Airport_Code              object\n",
       "Weather_Timestamp         object\n",
       "Temperature(F)           float64\n",
       "Wind_Chill(F)            float64\n",
       "Humidity(%)              float64\n",
       "Pressure(in)             float64\n",
       "Visibility(mi)           float64\n",
       "Wind_Direction            object\n",
       "Wind_Speed(mph)          float64\n",
       "Precipitation(in)        float64\n",
       "Weather_Condition         object\n",
       "Amenity                     bool\n",
       "Bump                        bool\n",
       "Crossing                    bool\n",
       "Give_Way                    bool\n",
       "Junction                    bool\n",
       "No_Exit                     bool\n",
       "Railway                     bool\n",
       "Roundabout                  bool\n",
       "Station                     bool\n",
       "Stop                        bool\n",
       "Traffic_Calming             bool\n",
       "Traffic_Signal              bool\n",
       "Turning_Loop                bool\n",
       "Sunrise_Sunset            object\n",
       "Civil_Twilight            object\n",
       "Nautical_Twilight         object\n",
       "Astronomical_Twilight     object\n",
       "dtype: object"
      ]
     },
     "execution_count": 9,
     "metadata": {},
     "output_type": "execute_result"
    }
   ],
   "source": [
    "df.dtypes"
   ]
  },
  {
   "cell_type": "code",
   "execution_count": 10,
   "metadata": {},
   "outputs": [
    {
     "data": {
      "text/plain": [
       "array([2, 3, 4, 1], dtype=int64)"
      ]
     },
     "execution_count": 10,
     "metadata": {},
     "output_type": "execute_result"
    }
   ],
   "source": [
    "df[\"Severity\"].unique()"
   ]
  },
  {
   "cell_type": "code",
   "execution_count": 11,
   "metadata": {},
   "outputs": [
    {
     "data": {
      "text/plain": [
       "array(['LA', 'VA', 'CA', 'MN', 'MA', 'OR', 'FL', 'TX', 'IN', 'MT', 'AL',\n",
       "       'AZ', 'NY', 'NC', 'SC', 'KS', 'MI', 'CO', 'GA', 'MD', 'IL', 'PA',\n",
       "       'NM', 'NV', 'NE', 'NJ', 'TN', 'UT', 'RI', 'MS', 'IA', 'WA', 'MO',\n",
       "       'OH', 'OK', 'CT', 'DC', 'AR', 'WV', 'KY', 'WI', 'NH', 'WY', 'DE',\n",
       "       'VT', 'ID', 'ME', 'ND', 'SD'], dtype=object)"
      ]
     },
     "execution_count": 11,
     "metadata": {},
     "output_type": "execute_result"
    }
   ],
   "source": [
    "df[\"State\"].unique()"
   ]
  },
  {
   "cell_type": "code",
   "execution_count": 12,
   "metadata": {},
   "outputs": [
    {
     "data": {
      "text/plain": [
       "0         LA\n",
       "1         VA\n",
       "2         CA\n",
       "3         MN\n",
       "4         CA\n",
       "          ..\n",
       "499995    OR\n",
       "499996    FL\n",
       "499997    AZ\n",
       "499998    VA\n",
       "499999    TN\n",
       "Name: State, Length: 500000, dtype: object"
      ]
     },
     "execution_count": 12,
     "metadata": {},
     "output_type": "execute_result"
    }
   ],
   "source": [
    "df[\"State\"]"
   ]
  },
  {
   "cell_type": "code",
   "execution_count": 13,
   "metadata": {},
   "outputs": [
    {
     "data": {
      "text/plain": [
       "(500000, 46)"
      ]
     },
     "execution_count": 13,
     "metadata": {},
     "output_type": "execute_result"
    }
   ],
   "source": [
    "df.shape"
   ]
  },
  {
   "cell_type": "markdown",
   "metadata": {},
   "source": [
    "## _Checking for null :_\n"
   ]
  },
  {
   "cell_type": "code",
   "execution_count": 14,
   "metadata": {},
   "outputs": [
    {
     "data": {
      "text/plain": [
       "ID                        0.0000\n",
       "Source                    0.0000\n",
       "Severity                  0.0000\n",
       "Start_Time                0.0000\n",
       "End_Time                  0.0000\n",
       "Start_Lat                 0.0000\n",
       "Start_Lng                 0.0000\n",
       "End_Lat                  44.0754\n",
       "End_Lng                  44.0754\n",
       "Distance(mi)              0.0000\n",
       "Description               0.0002\n",
       "Street                    0.1382\n",
       "City                      0.0038\n",
       "County                    0.0000\n",
       "State                     0.0000\n",
       "Zipcode                   0.0232\n",
       "Country                   0.0000\n",
       "Timezone                  0.1014\n",
       "Airport_Code              0.2892\n",
       "Weather_Timestamp         1.5348\n",
       "Temperature(F)            2.0932\n",
       "Wind_Chill(F)            25.8034\n",
       "Humidity(%)               2.2260\n",
       "Pressure(in)              1.7856\n",
       "Visibility(mi)            2.2582\n",
       "Wind_Direction            2.2394\n",
       "Wind_Speed(mph)           7.3974\n",
       "Precipitation(in)        28.5232\n",
       "Weather_Condition         2.2202\n",
       "Amenity                   0.0000\n",
       "Bump                      0.0000\n",
       "Crossing                  0.0000\n",
       "Give_Way                  0.0000\n",
       "Junction                  0.0000\n",
       "No_Exit                   0.0000\n",
       "Railway                   0.0000\n",
       "Roundabout                0.0000\n",
       "Station                   0.0000\n",
       "Stop                      0.0000\n",
       "Traffic_Calming           0.0000\n",
       "Traffic_Signal            0.0000\n",
       "Turning_Loop              0.0000\n",
       "Sunrise_Sunset            0.2966\n",
       "Civil_Twilight            0.2966\n",
       "Nautical_Twilight         0.2966\n",
       "Astronomical_Twilight     0.2966\n",
       "dtype: float64"
      ]
     },
     "execution_count": 14,
     "metadata": {},
     "output_type": "execute_result"
    }
   ],
   "source": [
    "df.isna().sum() / len(df) * 100"
   ]
  },
  {
   "cell_type": "code",
   "execution_count": 15,
   "metadata": {},
   "outputs": [
    {
     "name": "stderr",
     "output_type": "stream",
     "text": [
      "C:\\Users\\22831\\AppData\\Local\\Temp\\ipykernel_7164\\1639216733.py:1: FutureWarning: A value is trying to be set on a copy of a DataFrame or Series through chained assignment using an inplace method.\n",
      "The behavior will change in pandas 3.0. This inplace method will never work because the intermediate object on which we are setting values always behaves as a copy.\n",
      "\n",
      "For example, when doing 'df[col].method(value, inplace=True)', try using 'df.method({col: value}, inplace=True)' or df[col] = df[col].method(value) instead, to perform the operation inplace on the original object.\n",
      "\n",
      "\n",
      "  df[\"End_Lat\"].fillna(df[\"End_Lat\"].mean(), inplace=True)\n"
     ]
    }
   ],
   "source": [
    "df[\"End_Lat\"].fillna(df[\"End_Lat\"].mean(), inplace=True)"
   ]
  },
  {
   "cell_type": "code",
   "execution_count": 16,
   "metadata": {},
   "outputs": [
    {
     "name": "stderr",
     "output_type": "stream",
     "text": [
      "C:\\Users\\22831\\AppData\\Local\\Temp\\ipykernel_7164\\130499968.py:1: FutureWarning: A value is trying to be set on a copy of a DataFrame or Series through chained assignment using an inplace method.\n",
      "The behavior will change in pandas 3.0. This inplace method will never work because the intermediate object on which we are setting values always behaves as a copy.\n",
      "\n",
      "For example, when doing 'df[col].method(value, inplace=True)', try using 'df.method({col: value}, inplace=True)' or df[col] = df[col].method(value) instead, to perform the operation inplace on the original object.\n",
      "\n",
      "\n",
      "  df[\"End_Lng\"].fillna(df[\"End_Lng\"].mean(), inplace=True)\n"
     ]
    }
   ],
   "source": [
    "df[\"End_Lng\"].fillna(df[\"End_Lng\"].mean(), inplace=True)"
   ]
  },
  {
   "cell_type": "code",
   "execution_count": 17,
   "metadata": {},
   "outputs": [
    {
     "data": {
      "text/plain": [
       "ID                        0.0000\n",
       "Source                    0.0000\n",
       "Severity                  0.0000\n",
       "Start_Time                0.0000\n",
       "End_Time                  0.0000\n",
       "Start_Lat                 0.0000\n",
       "Start_Lng                 0.0000\n",
       "End_Lat                   0.0000\n",
       "End_Lng                   0.0000\n",
       "Distance(mi)              0.0000\n",
       "Description               0.0002\n",
       "Street                    0.1382\n",
       "City                      0.0038\n",
       "County                    0.0000\n",
       "State                     0.0000\n",
       "Zipcode                   0.0232\n",
       "Country                   0.0000\n",
       "Timezone                  0.1014\n",
       "Airport_Code              0.2892\n",
       "Weather_Timestamp         1.5348\n",
       "Temperature(F)            2.0932\n",
       "Wind_Chill(F)            25.8034\n",
       "Humidity(%)               2.2260\n",
       "Pressure(in)              1.7856\n",
       "Visibility(mi)            2.2582\n",
       "Wind_Direction            2.2394\n",
       "Wind_Speed(mph)           7.3974\n",
       "Precipitation(in)        28.5232\n",
       "Weather_Condition         2.2202\n",
       "Amenity                   0.0000\n",
       "Bump                      0.0000\n",
       "Crossing                  0.0000\n",
       "Give_Way                  0.0000\n",
       "Junction                  0.0000\n",
       "No_Exit                   0.0000\n",
       "Railway                   0.0000\n",
       "Roundabout                0.0000\n",
       "Station                   0.0000\n",
       "Stop                      0.0000\n",
       "Traffic_Calming           0.0000\n",
       "Traffic_Signal            0.0000\n",
       "Turning_Loop              0.0000\n",
       "Sunrise_Sunset            0.2966\n",
       "Civil_Twilight            0.2966\n",
       "Nautical_Twilight         0.2966\n",
       "Astronomical_Twilight     0.2966\n",
       "dtype: float64"
      ]
     },
     "execution_count": 17,
     "metadata": {},
     "output_type": "execute_result"
    }
   ],
   "source": [
    "df.isna().sum() / len(df) * 100"
   ]
  },
  {
   "cell_type": "code",
   "execution_count": 18,
   "metadata": {},
   "outputs": [
    {
     "data": {
      "text/plain": [
       "Weather_Condition\n",
       "Fair             166053\n",
       "Mostly Cloudy     65398\n",
       "Cloudy            53107\n",
       "Clear             52379\n",
       "Partly Cloudy     45125\n",
       "                  ...  \n",
       "Rain Shower           1\n",
       "Light Hail            1\n",
       "Light Haze            1\n",
       "Sleet / Windy         1\n",
       "Sand                  1\n",
       "Name: count, Length: 108, dtype: int64"
      ]
     },
     "execution_count": 18,
     "metadata": {},
     "output_type": "execute_result"
    }
   ],
   "source": [
    "df_weather = df[\"Weather_Condition\"].value_counts()\n",
    "df_weather"
   ]
  },
  {
   "cell_type": "code",
   "execution_count": 19,
   "metadata": {},
   "outputs": [],
   "source": [
    "df.drop([\"Description\", \"Zipcode\", \"Weather_Timestamp\"], axis=1, inplace=True)"
   ]
  },
  {
   "cell_type": "code",
   "execution_count": 20,
   "metadata": {},
   "outputs": [
    {
     "data": {
      "text/plain": [
       "City\n",
       "Miami            12141\n",
       "Houston          11031\n",
       "Los Angeles      10299\n",
       "Charlotte         8979\n",
       "Dallas            8245\n",
       "                 ...  \n",
       "Newcomerstown        1\n",
       "Lakehurst            1\n",
       "New Concord          1\n",
       "Smithmill            1\n",
       "Fair Haven           1\n",
       "Name: count, Length: 9488, dtype: int64"
      ]
     },
     "execution_count": 20,
     "metadata": {},
     "output_type": "execute_result"
    }
   ],
   "source": [
    "accident_by_cities = df[\"City\"].value_counts()\n",
    "accident_by_cities"
   ]
  },
  {
   "cell_type": "code",
   "execution_count": 21,
   "metadata": {},
   "outputs": [
    {
     "data": {
      "text/plain": [
       "City\n",
       "Miami          12141\n",
       "Houston        11031\n",
       "Los Angeles    10299\n",
       "Charlotte       8979\n",
       "Dallas          8245\n",
       "Orlando         6985\n",
       "Austin          6269\n",
       "Raleigh         5553\n",
       "Nashville       4689\n",
       "Baton Rouge     4625\n",
       "Name: count, dtype: int64"
      ]
     },
     "execution_count": 21,
     "metadata": {},
     "output_type": "execute_result"
    }
   ],
   "source": [
    "accident_by_cities[:10]"
   ]
  },
  {
   "cell_type": "markdown",
   "metadata": {},
   "source": [
    "# _plot of cities vs no of accidents_\n"
   ]
  },
  {
   "cell_type": "code",
   "execution_count": 22,
   "metadata": {},
   "outputs": [
    {
     "data": {
      "image/png": "[encoded data removed]",
      "text/plain": [
       "<Figure size 640x480 with 1 Axes>"
      ]
     },
     "metadata": {},
     "output_type": "display_data"
    }
   ],
   "source": [
    "fig, axes = plt.subplots(figure=(15, 9))\n",
    "accident_by_cities[:10].plot(kind=\"bar\")\n",
    "axes.set(title=\"Accident by cities\", xlabel=\"Cities\", ylabel=\"No of accidents\")\n",
    "plt.show()"
   ]
  },
  {
   "cell_type": "markdown",
   "metadata": {},
   "source": [
    "# _Accidents by severity in pie chart_\n"
   ]
  },
  {
   "cell_type": "code",
   "execution_count": 23,
   "metadata": {},
   "outputs": [
    {
     "data": {
      "image/png": "[encoded data removed]",
      "text/plain": [
       "<Figure size 800x800 with 1 Axes>"
      ]
     },
     "metadata": {},
     "output_type": "display_data"
    }
   ],
   "source": [
    "severity = df[\"Severity\"].value_counts()\n",
    "label = [1, 2, 3, 4]\n",
    "plt.figure(figsize=(8, 8))\n",
    "plt.pie(\n",
    "    severity,\n",
    "    labels=label,  # type:ignore\n",
    "    autopct=\"%1.1f%%\",\n",
    "    colors=[\"#33c481\", \"#2285ba\", \"#ff4747\", \"#ffcc99\"],\n",
    "    pctdistance=0.85,\n",
    ")\n",
    "plt.title(\"Accidents by Severity\")\n",
    "plt.show()"
   ]
  },
  {
   "cell_type": "code",
   "execution_count": 24,
   "metadata": {},
   "outputs": [
    {
     "name": "stdout",
     "output_type": "stream",
     "text": [
      "object\n",
      "object\n"
     ]
    }
   ],
   "source": [
    "print(df[\"Start_Time\"].dtypes)\n",
    "print(df[\"Start_Time\"].dtypes)"
   ]
  },
  {
   "cell_type": "code",
   "execution_count": 25,
   "metadata": {},
   "outputs": [
    {
     "data": {
      "text/plain": [
       "dtype('<M8[ns]')"
      ]
     },
     "execution_count": 25,
     "metadata": {},
     "output_type": "execute_result"
    }
   ],
   "source": [
    "df1 = df.astype({\"Start_Time\": \"datetime64[ns]\", \"End_Time\": \"datetime64[ns]\"})\n",
    "df1[\"Start_Time\"].dtypes"
   ]
  },
  {
   "cell_type": "code",
   "execution_count": 26,
   "metadata": {},
   "outputs": [
    {
     "data": {
      "text/plain": [
       "Timestamp('2022-01-30 23:59:44')"
      ]
     },
     "execution_count": 26,
     "metadata": {},
     "output_type": "execute_result"
    }
   ],
   "source": [
    "df1[\"Start_Time\"][2408]"
   ]
  },
  {
   "cell_type": "code",
   "execution_count": 27,
   "metadata": {},
   "outputs": [
    {
     "data": {
      "text/plain": [
       "Timestamp('2022-01-31 02:01:44')"
      ]
     },
     "execution_count": 27,
     "metadata": {},
     "output_type": "execute_result"
    }
   ],
   "source": [
    "df1[\"End_Time\"][2408]"
   ]
  },
  {
   "cell_type": "code",
   "execution_count": 28,
   "metadata": {},
   "outputs": [],
   "source": [
    "df1[\"start_date\"] = [d.date() for d in df1[\"Start_Time\"]]\n",
    "df1[\"start_time\"] = [d.time() for d in df1[\"Start_Time\"]]\n",
    "df1[\"end_date\"] = [d.date() for d in df1[\"End_Time\"]]\n",
    "df1[\"end_time\"] = [d.time() for d in df1[\"End_Time\"]]"
   ]
  },
  {
   "cell_type": "code",
   "execution_count": 29,
   "metadata": {},
   "outputs": [
    {
     "data": {
      "text/plain": [
       "0         10:10:56\n",
       "1         23:37:14\n",
       "2         13:13:00\n",
       "3         17:43:04\n",
       "4         01:46:00\n",
       "            ...   \n",
       "499995    07:30:00\n",
       "499996    16:25:00\n",
       "499997    19:28:29\n",
       "499998    17:20:56\n",
       "499999    23:23:13\n",
       "Name: start_time, Length: 500000, dtype: object"
      ]
     },
     "execution_count": 29,
     "metadata": {},
     "output_type": "execute_result"
    }
   ],
   "source": [
    "df1[\"start_time\"]"
   ]
  },
  {
   "cell_type": "markdown",
   "metadata": {},
   "source": [
    "# _No of accidents vs Time graph:_\n"
   ]
  },
  {
   "cell_type": "code",
   "execution_count": 30,
   "metadata": {},
   "outputs": [
    {
     "data": {
      "image/png": "[encoded data removed]",
      "text/plain": [
       "<Figure size 800x500 with 1 Axes>"
      ]
     },
     "metadata": {},
     "output_type": "display_data"
    }
   ],
   "source": [
    "fig, ax = plt.subplots(figsize=(8, 5))\n",
    "sns.histplot(df1[\"Start_Time\"].dt.hour, bins=24)  # type: ignore\n",
    "\n",
    "plt.xlabel(\"Start Time\")\n",
    "plt.ylabel(\"Number of Occurence\")\n",
    "plt.title(\"Accidents Count By Time of Day\")\n",
    "\n",
    "plt.show()"
   ]
  },
  {
   "cell_type": "code",
   "execution_count": 34,
   "metadata": {},
   "outputs": [
    {
     "data": {
      "image/png": "[encoded data removed]",
      "text/plain": [
       "<Figure size 800x500 with 1 Axes>"
      ]
     },
     "metadata": {},
     "output_type": "display_data"
    }
   ],
   "source": [
    "fig, ax = plt.subplots(figsize=(8, 5))\n",
    "sns.histplot(df1[\"End_Time\"].dt.hour, bins=24)  # type: ignore\n",
    "\n",
    "plt.xlabel(\"End Time\")\n",
    "plt.ylabel(\"Number of Occurence\")\n",
    "plt.title(\"Accidents Count By Time of Day\")\n",
    "\n",
    "plt.show()"
   ]
  },
  {
   "cell_type": "markdown",
   "metadata": {},
   "source": [
    "# _Plot of wether conditions to no of accidents_:\n"
   ]
  },
  {
   "cell_type": "code",
   "execution_count": 32,
   "metadata": {},
   "outputs": [
    {
     "data": {
      "image/png": "[encoded data removed]",
      "text/plain": [
       "<Figure size 800x500 with 1 Axes>"
      ]
     },
     "metadata": {},
     "output_type": "display_data"
    }
   ],
   "source": [
    "fig, ax = plt.subplots(figsize=(8, 5))\n",
    "df_weather.sort_values(ascending=False)[:20].plot(kind=\"bar\")\n",
    "ax.set(\n",
    "    title=\"Weather Conditions at Time of Accidents\",\n",
    "    xlabel=\"Weather\",\n",
    "    ylabel=\"Accidents Count\",\n",
    ")\n",
    "plt.show()"
   ]
  }
 ],
 "metadata": {
  "kernelspec": {
   "display_name": "Python 3",
   "language": "python",
   "name": "python3"
  },
  "language_info": {
   "codemirror_mode": {
    "name": "ipython",
    "version": 3
   },
   "file_extension": ".py",
   "mimetype": "text/x-python",
   "name": "python",
   "nbconvert_exporter": "python",
   "pygments_lexer": "ipython3",
   "version": "3.12.3"
  }
 },
 "nbformat": 4,
 "nbformat_minor": 2
}
